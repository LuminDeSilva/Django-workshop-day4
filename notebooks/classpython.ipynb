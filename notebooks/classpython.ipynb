{
 "cells": [
  {
   "cell_type": "code",
   "execution_count": 18,
   "metadata": {},
   "outputs": [],
   "source": [
    "class SimpleClass:\n",
    "    pass\n",
    "\n",
    "myobj=SimpleClass()"
   ]
  },
  {
   "cell_type": "code",
   "execution_count": 19,
   "metadata": {},
   "outputs": [
    {
     "name": "stdout",
     "output_type": "stream",
     "text": [
      "Student  IT1002 Profile : name James peter Course: IT\n"
     ]
    },
    {
     "data": {
      "text/plain": [
       "'IT1002'"
      ]
     },
     "execution_count": 19,
     "metadata": {},
     "output_type": "execute_result"
    }
   ],
   "source": [
    "class Student:\n",
    "    def __init__(self,id,nm,crs):\n",
    "        self.__id=id\n",
    "        self.__name=nm\n",
    "        self.__course=crs\n",
    "        \n",
    "    def profile(self):\n",
    "        print(\"Student \",self.__id,\"Profile : name\",self.__name,\"Course:\",self.__course)\n",
    "\n",
    "    def get_id(self):\n",
    "        return self.__id\n",
    "    def set_id(self,id):\n",
    "        self.__id=id\n",
    "    \n",
    "\n",
    "\n",
    "peter=Student('IT1002','James peter','IT')\n",
    "peter.profile()\n",
    "peter.set_id('IT1002')\n",
    "peter.get_id()\n",
    "\n"
   ]
  },
  {
   "cell_type": "code",
   "execution_count": 27,
   "metadata": {},
   "outputs": [
    {
     "name": "stdout",
     "output_type": "stream",
     "text": [
      "[10, 20, 30, 40, 50]\n",
      "[10, 20, 30]\n",
      "['L', 'U', 'M', 'I', 'N']\n"
     ]
    }
   ],
   "source": [
    "class Stack:\n",
    "    def __init__(self):\n",
    "        self.__stack=[]\n",
    "    \n",
    "    def push(self,value):\n",
    "        self.__stack.append(value)\n",
    "\n",
    "    def pop(self):\n",
    "        ele=self.__stack[-1]\n",
    "        del self.__stack[-1]\n",
    "        return ele\n",
    "    \n",
    "    def printStack(self):\n",
    "        print(self.__stack)\n",
    "\n",
    "stack1=Stack()\n",
    "stack1.push(10)\n",
    "stack1.push(20)\n",
    "stack1.push(30)\n",
    "stack1.push(40)\n",
    "stack1.push(50)\n",
    "stack1.printStack()\n",
    "stack1.pop()\n",
    "stack1.pop()\n",
    "stack1.printStack()\n",
    "stack2=Stack()\n",
    "stack2.push('L')\n",
    "stack2.push('U')\n",
    "stack2.push('M')\n",
    "stack2.push('I')\n",
    "stack2.push('N')\n",
    "stack2.printStack()\n"
   ]
  },
  {
   "cell_type": "code",
   "execution_count": 33,
   "metadata": {},
   "outputs": [
    {
     "name": "stdout",
     "output_type": "stream",
     "text": [
      "My name is :  Jimy\n",
      "Woof!\n",
      "My name is :  Dane\n",
      "Meow!\n"
     ]
    }
   ],
   "source": [
    "class Animal:\n",
    "    def __init__(self,name):\n",
    "        self.__name=name\n",
    "        print('My name is : ',self.__name)\n",
    "    \n",
    "    def make_sound(self):\n",
    "        pass\n",
    "\n",
    "class Dog(Animal):\n",
    "    def make_sound(self):\n",
    "        print('Woof!')\n",
    "\n",
    "class Cat(Animal):\n",
    "    def make_sound(self):\n",
    "        print('Meow!')\n",
    "\n",
    "dog=Dog('Jimy')\n",
    "dog.make_sound()\n",
    "cat=Cat('Dane')\n",
    "cat.make_sound()"
   ]
  }
 ],
 "metadata": {
  "kernelspec": {
   "display_name": "Python 3",
   "language": "python",
   "name": "python3"
  },
  "language_info": {
   "codemirror_mode": {
    "name": "ipython",
    "version": 3
   },
   "file_extension": ".py",
   "mimetype": "text/x-python",
   "name": "python",
   "nbconvert_exporter": "python",
   "pygments_lexer": "ipython3",
   "version": "3.10.13"
  }
 },
 "nbformat": 4,
 "nbformat_minor": 2
}
